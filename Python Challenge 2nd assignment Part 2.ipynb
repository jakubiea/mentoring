{
 "cells": [
  {
   "cell_type": "code",
   "execution_count": 1,
   "id": "9b34c895",
   "metadata": {},
   "outputs": [
    {
     "name": "stdout",
     "output_type": "stream",
     "text": [
      "Enter words separated by space: lali\n",
      "True\n"
     ]
    }
   ],
   "source": [
    "#3. Write a function to check duplicate letters in words. It must accept strings ie. a sentence.\n",
    "#The function should return True if any of the words has duplicate letters else return False.\n",
    "\n",
    "def has_duplicate_letters(word):\n",
    "    seen_letters = set()\n",
    "    for letter in word:\n",
    "        if letter in seen_letters:\n",
    "            return True\n",
    "        seen_letters.add(letter)\n",
    "    return False\n",
    "\n",
    "def any_word_has_duplicate_letters(words):\n",
    "    for word in words:\n",
    "        if has_duplicate_letters(word):\n",
    "            return True\n",
    "    return False\n",
    "\n",
    "# Test the function\n",
    "words = input(\"Enter words separated by space: \").split()\n",
    "result = any_word_has_duplicate_letters(words)\n",
    "if result:\n",
    "    print(\"True\")\n",
    "else:\n",
    "    print(\"False\")"
   ]
  },
  {
   "cell_type": "code",
   "execution_count": 4,
   "id": "730f9c8c",
   "metadata": {},
   "outputs": [
    {
     "name": "stdout",
     "output_type": "stream",
     "text": [
      "Enter a word: today\n",
      "Vowel counts in the word: {'o': 1, 'a': 1}\n"
     ]
    }
   ],
   "source": [
    "#5. Rewrite the function from task 4 and now it should return a dictionary \n",
    "#with the vowel as key and the number of the vowel in a word as value.\n",
    "def count_vowels(word):\n",
    "    vowels = \"aeiouAEIOU\"\n",
    "    #vowel_count = {vowel: 0 for vowel in vowels}\n",
    "    vowel_count = {}\n",
    "    for char in word:\n",
    "        if char in vowels:\n",
    "            if char.lower() in vowel_count:\n",
    "                vowel_count[char.lower()] += 1\n",
    "            else:\n",
    "                vowel_count[char.lower()] = 1\n",
    "    return vowel_count\n",
    "\n",
    "# Test the function\n",
    "word = input(\"Enter a word: \")\n",
    "vowel_counts = count_vowels(word)\n",
    "print(\"Vowel counts in the word:\", vowel_counts)"
   ]
  },
  {
   "cell_type": "code",
   "execution_count": 5,
   "id": "8bec5ca8",
   "metadata": {},
   "outputs": [
    {
     "name": "stdout",
     "output_type": "stream",
     "text": [
      "Enter text to encode in Morse code: aneta\n",
      "Encoded Morse code: .- -. . - .-\n"
     ]
    }
   ],
   "source": [
    "#7. Write the Morse code translator. Write a function that takes as input a string (one word or a sentence) \n",
    "#and returns encoded string in the Morse code.\n",
    "\n",
    "def encode_morse_code(text):\n",
    "    morse_code_dict = {\n",
    "        'A': '.-', 'B': '-...', 'C': '-.-.', 'D': '-..', 'E': '.', 'F': '..-.', 'G': '--.', 'H': '....',\n",
    "        'I': '..', 'J': '.---', 'K': '-.-', 'L': '.-..', 'M': '--', 'N': '-.', 'O': '---', 'P': '.--.',\n",
    "        'Q': '--.-', 'R': '.-.', 'S': '...', 'T': '-', 'U': '..-', 'V': '...-', 'W': '.--', 'X': '-..-',\n",
    "        'Y': '-.--', 'Z': '--..',\n",
    "        '0': '-----', '1': '.----', '2': '..---', '3': '...--', '4': '....-', '5': '.....', '6': '-....',\n",
    "        '7': '--...', '8': '---..', '9': '----.',\n",
    "        ' ': ' ',  # Adding space mapping\n",
    "    }\n",
    "\n",
    "    encoded_text = ''\n",
    "    for char in text.upper():\n",
    "        if char in morse_code_dict:\n",
    "            encoded_text += morse_code_dict[char] + ' '  # Adding space between morse code characters\n",
    "        else:\n",
    "            encoded_text += '/ '  # Adding separator for unknown characters\n",
    "    return encoded_text.strip()  # Remove trailing space\n",
    "\n",
    "# Test the function\n",
    "input_text = input(\"Enter text to encode in Morse code: \")\n",
    "encoded_text = encode_morse_code(input_text)\n",
    "print(\"Encoded Morse code:\", encoded_text)"
   ]
  },
  {
   "cell_type": "code",
   "execution_count": 8,
   "id": "bdf6ad99",
   "metadata": {},
   "outputs": [
    {
     "name": "stdout",
     "output_type": "stream",
     "text": [
      "Enter a word: i like you\n",
      "Vowel counts in the word: [{'i': {'i': 1}}, {'like': {'i': 1, 'e': 1}}, {'you': {'o': 1, 'u': 1}}]\n"
     ]
    }
   ],
   "source": [
    "#6. Modify the function created in task 5, but now as input use a csv file with words in it (ie. inputs.csv)\n",
    "#Expected result: the function should create a txt file with dictionary which contains the input word as key, \n",
    "#dictionary with vowels, and the number of the vowels as value. It should look like this: {'banana' : {'a': 3}}\n",
    "\n",
    "def count_vowels(sentence):\n",
    "    vowels = \"aeiouAEIOU\"\n",
    "    words_list = []\n",
    "    #vowel_count = {vowel: 0 for vowel in vowels}\n",
    "    \n",
    "    for word in sentence.split():\n",
    "        vowel_count = {}\n",
    "        for char in word:\n",
    "            if char in vowels:\n",
    "                if char.lower() in vowel_count:\n",
    "                    vowel_count[char.lower()] += 1\n",
    "                else:\n",
    "                    vowel_count[char.lower()] = 1\n",
    "        words_list.append({word:vowel_count})\n",
    "    return words_list\n",
    "\n",
    "# Test the function\n",
    "word = input(\"Enter a word: \")\n",
    "vowel_counts = count_vowels(word)\n",
    "print(\"Vowel counts in the word:\", vowel_counts)"
   ]
  },
  {
   "cell_type": "code",
   "execution_count": null,
   "id": "8a0597a7",
   "metadata": {},
   "outputs": [],
   "source": []
  }
 ],
 "metadata": {
  "kernelspec": {
   "display_name": "Python 3 (ipykernel)",
   "language": "python",
   "name": "python3"
  },
  "language_info": {
   "codemirror_mode": {
    "name": "ipython",
    "version": 3
   },
   "file_extension": ".py",
   "mimetype": "text/x-python",
   "name": "python",
   "nbconvert_exporter": "python",
   "pygments_lexer": "ipython3",
   "version": "3.11.5"
  }
 },
 "nbformat": 4,
 "nbformat_minor": 5
}
