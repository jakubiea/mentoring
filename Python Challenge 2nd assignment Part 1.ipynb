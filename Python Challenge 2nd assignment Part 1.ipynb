{
 "cells": [
  {
   "cell_type": "code",
   "execution_count": 40,
   "id": "c74472db",
   "metadata": {},
   "outputs": [
    {
     "name": "stdout",
     "output_type": "stream",
     "text": [
      "Put in text: Aneta\n",
      "atenA\n"
     ]
    }
   ],
   "source": [
    "#1. Write a program that as input accepts a string typed on keyboard and as output it will print this string reversed\n",
    "\n",
    "text = input(\"Put in text: \")\n",
    "print(text [::-1])"
   ]
  },
  {
   "cell_type": "code",
   "execution_count": 41,
   "id": "f31e07ee",
   "metadata": {},
   "outputs": [
    {
     "name": "stdout",
     "output_type": "stream",
     "text": [
      "Number of words:\n",
      "9\n"
     ]
    }
   ],
   "source": [
    "#2. Write a word counter: as input program accepts a txt file, then reads the content from the file and as output prints the number of words in that txt file.\n",
    "# You need to create this txt file first and fill it with some sentences.\n",
    "\n",
    "open(\"test_file.txt\")\n",
    "\n",
    "f = \"test_file.txt\"\n",
    " \n",
    "num_words = 0\n",
    " \n",
    "with open(r'test_file.txt','r') as file:\n",
    "    data = file.read()\n",
    "    lines = data.split()\n",
    "    num_words += len(lines)\n",
    "print(\"Number of words:\")\n",
    "print(num_words)"
   ]
  },
  {
   "cell_type": "code",
   "execution_count": 28,
   "id": "8c413441",
   "metadata": {},
   "outputs": [
    {
     "name": "stdout",
     "output_type": "stream",
     "text": [
      "Enter a word: Aneta\n",
      "Number of vowels: 3\n"
     ]
    }
   ],
   "source": [
    "#4. Write a function that counts the number of vowels in a given word.\n",
    "\n",
    "\n",
    "def count_vowels(word):\n",
    "    vowels = \"aeiouAEIOU\"\n",
    "    vowel_count = 0\n",
    "    for char in word:\n",
    "        if char in vowels:\n",
    "            vowel_count += 1\n",
    "    return vowel_count\n",
    "\n",
    "# Test the function\n",
    "word = input(\"Enter a word: \")\n",
    "print(\"Number of vowels:\", count_vowels(word))"
   ]
  }
 ],
 "metadata": {
  "kernelspec": {
   "display_name": "Python 3 (ipykernel)",
   "language": "python",
   "name": "python3"
  },
  "language_info": {
   "codemirror_mode": {
    "name": "ipython",
    "version": 3
   },
   "file_extension": ".py",
   "mimetype": "text/x-python",
   "name": "python",
   "nbconvert_exporter": "python",
   "pygments_lexer": "ipython3",
   "version": "3.11.5"
  }
 },
 "nbformat": 4,
 "nbformat_minor": 5
}
