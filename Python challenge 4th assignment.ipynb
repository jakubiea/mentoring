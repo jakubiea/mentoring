{
 "cells": [
  {
   "cell_type": "code",
   "execution_count": 1,
   "id": "ecc97aaa",
   "metadata": {},
   "outputs": [
    {
     "name": "stdout",
     "output_type": "stream",
     "text": [
      "Top 3 maximum salaries are: [18000, 16400, 15100]\n"
     ]
    }
   ],
   "source": [
    "#Write program that finds max 3 salaries from the list.\n",
    "\n",
    "salaries = [10000, 12000, 7000, 8500, 11200, 9300, 15100, 18000, 16400, 11000]\n",
    "\n",
    "# Sort the salaries in descending order\n",
    "sorted_salaries = sorted(salaries, reverse=True)\n",
    "\n",
    "# Extract the top 3 maximum salaries\n",
    "top_3_salaries = sorted_salaries[:3]\n",
    "\n",
    "print(\"Top 3 maximum salaries are:\", top_3_salaries)"
   ]
  },
  {
   "cell_type": "code",
   "execution_count": 4,
   "id": "4a5e1adc",
   "metadata": {},
   "outputs": [
    {
     "name": "stdout",
     "output_type": "stream",
     "text": [
      "Mean salary: 11850.0\n",
      "Salaries greater than the mean salary: [12000, 15100, 18000, 16400]\n"
     ]
    }
   ],
   "source": [
    "#Write program that finds salaries greater than mean salary from dictionary.\n",
    "\n",
    "name_to_salary_dictionary = {\n",
    "    'Adam': 10000,\n",
    "    'Beata': 12000,\n",
    "    'Jarek': 7000,\n",
    "    'Agnieszka': 8500,\n",
    "    'Marek': 11200,\n",
    "    'Ania': 9300,\n",
    "    'Piotr': 15100,\n",
    "    'Mateusz': 18000,\n",
    "    'Agata': 16400,\n",
    "    'Marian': 11000\n",
    "}\n",
    "\n",
    "# Calculate the mean salary\n",
    "total_salary = sum(name_to_salary_dictionary.values())\n",
    "mean_salary = total_salary / len(name_to_salary_dictionary)\n",
    "\n",
    "# Find salaries greater than the mean\n",
    "salaries_greater_than_mean = [salary for salary in name_to_salary_dictionary.values() if salary > mean_salary]\n",
    "\n",
    "print(\"Mean salary:\", mean_salary)\n",
    "print(\"Salaries greater than the mean salary:\", salaries_greater_than_mean)"
   ]
  },
  {
   "cell_type": "code",
   "execution_count": 8,
   "id": "0002116b",
   "metadata": {},
   "outputs": [
    {
     "name": "stdout",
     "output_type": "stream",
     "text": [
      "Number of employees in the 'Management' department: 4\n",
      "Names of employees in the 'Management' department: ['Adam', 'Beata', 'Piotr', 'Agata']\n"
     ]
    }
   ],
   "source": [
    "#Write program that filters employees from ‘Management’ department and counts them.\n",
    "\n",
    "employees = [\n",
    "{'Id': 1, 'Name': 'Adam', 'Department': 'Management', 'Salary': 10000},\n",
    "{'Id': 2, 'Name': 'Beata', 'Department': 'Management', 'Salary': 12000},\n",
    "{'Id': 3, 'Name': 'Jarek', 'Department': 'Kitchen', 'Salary': 7000},\n",
    "{'Id': 4, 'Name': 'Agnieszka', 'Department': 'House Floor', 'Salary': 8500},\n",
    "{'Id': 5, 'Name': 'Marek', 'Department': 'House Floor', 'Salary': 11200},\n",
    "{'Id': 6, 'Name': 'Ania', 'Department': 'Kitchen', 'Salary': 9300},\n",
    "{'Id': 7, 'Name': 'Piotr', 'Department': 'Management', 'Salary': 15100},\n",
    "{'Id': 8, 'Name': 'Mateusz', 'Department': 'Cashier', 'Salary': 18000},\n",
    "{'Id': 9, 'Name': 'Agata', 'Department': 'Management', 'Salary': 16400},\n",
    "{'Id': 10, 'Name': 'Marian', 'Department': 'Cashier', 'Salary': 11000},\n",
    "]\n",
    "\n",
    "# Filter employees belonging to the 'Management' department\n",
    "management_employees = [employee for employee in employees if employee['Department'] == 'Management']\n",
    "\n",
    "# Count the number of employees in the 'Management' department\n",
    "num_management_employees = len(management_employees)\n",
    "\n",
    "# Extract names of employees in the 'Management' department\n",
    "management_employee_names = [employee['Name'] for employee in management_employees]\n",
    "\n",
    "\n",
    "print(\"Number of employees in the 'Management' department:\", num_management_employees)\n",
    "print(\"Names of employees in the 'Management' department:\", management_employee_names)"
   ]
  },
  {
   "cell_type": "code",
   "execution_count": 10,
   "id": "70a8f64b",
   "metadata": {},
   "outputs": [
    {
     "name": "stdout",
     "output_type": "stream",
     "text": [
      "Mapping of employee IDs to the first letter of their names:\n",
      "{1: 'A', 2: 'B', 3: 'J', 4: 'A', 5: 'M', 6: 'A', 7: 'P', 8: 'M', 9: 'A', 10: 'M'}\n"
     ]
    }
   ],
   "source": [
    "#Write program that maps employee id to first letter of name, technically means returns a dictionary, where:\n",
    "#-  key - an employee's id,\n",
    "#-  value - first letter of name\n",
    "\n",
    "from typing import List, Dict, Any\n",
    "\n",
    "employees: List[Dict[str, Any]] = [\n",
    "    {'Id': 1, 'Name': 'Adam', 'Department': 'Management', 'Salary': 10000},\n",
    "    {'Id': 2, 'Name': 'Beata', 'Department': 'Management', 'Salary': 12000},\n",
    "    {'Id': 3, 'Name': 'Jarek', 'Department': 'Kitchen', 'Salary': 7000},\n",
    "    {'Id': 4, 'Name': 'Agnieszka', 'Department': 'House Floor', 'Salary': 8500},\n",
    "    {'Id': 5, 'Name': 'Marek', 'Department': 'House Floor', 'Salary': 11200},\n",
    "    {'Id': 6, 'Name': 'Ania', 'Department': 'Kitchen', 'Salary': 9300},\n",
    "    {'Id': 7, 'Name': 'Piotr', 'Department': 'Management', 'Salary': 15100},\n",
    "    {'Id': 8, 'Name': 'Mateusz', 'Department': 'Cashier', 'Salary': 18000},\n",
    "    {'Id': 9, 'Name': 'Agata', 'Department': 'Management', 'Salary': 16400},\n",
    "    {'Id': 10, 'Name': 'Marian', 'Department': 'Cashier', 'Salary': 11000},\n",
    "]\n",
    "\n",
    "# Map employee IDs to the first letter of their names\n",
    "id_to_first_letter = {employee['Id']: employee['Name'][0] for employee in employees}\n",
    "\n",
    "print(\"Mapping of employee IDs to the first letter of their names:\")\n",
    "print(id_to_first_letter)"
   ]
  },
  {
   "cell_type": "code",
   "execution_count": 17,
   "id": "a3379667",
   "metadata": {},
   "outputs": [
    {
     "ename": "FileNotFoundError",
     "evalue": "[Errno 2] No such file or directory: '5_input.csv'",
     "output_type": "error",
     "traceback": [
      "\u001b[1;31m---------------------------------------------------------------------------\u001b[0m",
      "\u001b[1;31mFileNotFoundError\u001b[0m                         Traceback (most recent call last)",
      "Cell \u001b[1;32mIn[17], line 20\u001b[0m\n\u001b[0;32m     16\u001b[0m df \u001b[38;5;241m=\u001b[39m pd\u001b[38;5;241m.\u001b[39mread_csv(\u001b[38;5;124mr\u001b[39m\u001b[38;5;124m\"\u001b[39m\u001b[38;5;124mC:\u001b[39m\u001b[38;5;124m\\\u001b[39m\u001b[38;5;124mUsers\u001b[39m\u001b[38;5;124m\\\u001b[39m\u001b[38;5;124mHP\u001b[39m\u001b[38;5;124m\\\u001b[39m\u001b[38;5;124mPython challenge\u001b[39m\u001b[38;5;124m\\\u001b[39m\u001b[38;5;124m4.assignment\u001b[39m\u001b[38;5;124m\\\u001b[39m\u001b[38;5;124m5_input.csv\u001b[39m\u001b[38;5;124m\"\u001b[39m)\n\u001b[0;32m     18\u001b[0m compensations \u001b[38;5;241m=\u001b[39m []\n\u001b[1;32m---> 20\u001b[0m \u001b[38;5;28;01mwith\u001b[39;00m \u001b[38;5;28mopen\u001b[39m(filename, \u001b[38;5;124m'\u001b[39m\u001b[38;5;124mr\u001b[39m\u001b[38;5;124m'\u001b[39m, newline\u001b[38;5;241m=\u001b[39m\u001b[38;5;124m'\u001b[39m\u001b[38;5;124m'\u001b[39m) \u001b[38;5;28;01mas\u001b[39;00m file:\n\u001b[0;32m     21\u001b[0m     reader \u001b[38;5;241m=\u001b[39m csv\u001b[38;5;241m.\u001b[39mDictReader(file)\n\u001b[0;32m     22\u001b[0m     \u001b[38;5;28;01mfor\u001b[39;00m row \u001b[38;5;129;01min\u001b[39;00m reader:\n",
      "File \u001b[1;32m~\\anaconda3\\Lib\\site-packages\\IPython\\core\\interactiveshell.py:286\u001b[0m, in \u001b[0;36m_modified_open\u001b[1;34m(file, *args, **kwargs)\u001b[0m\n\u001b[0;32m    279\u001b[0m \u001b[38;5;28;01mif\u001b[39;00m file \u001b[38;5;129;01min\u001b[39;00m {\u001b[38;5;241m0\u001b[39m, \u001b[38;5;241m1\u001b[39m, \u001b[38;5;241m2\u001b[39m}:\n\u001b[0;32m    280\u001b[0m     \u001b[38;5;28;01mraise\u001b[39;00m \u001b[38;5;167;01mValueError\u001b[39;00m(\n\u001b[0;32m    281\u001b[0m         \u001b[38;5;124mf\u001b[39m\u001b[38;5;124m\"\u001b[39m\u001b[38;5;124mIPython won\u001b[39m\u001b[38;5;124m'\u001b[39m\u001b[38;5;124mt let you open fd=\u001b[39m\u001b[38;5;132;01m{\u001b[39;00mfile\u001b[38;5;132;01m}\u001b[39;00m\u001b[38;5;124m by default \u001b[39m\u001b[38;5;124m\"\u001b[39m\n\u001b[0;32m    282\u001b[0m         \u001b[38;5;124m\"\u001b[39m\u001b[38;5;124mas it is likely to crash IPython. If you know what you are doing, \u001b[39m\u001b[38;5;124m\"\u001b[39m\n\u001b[0;32m    283\u001b[0m         \u001b[38;5;124m\"\u001b[39m\u001b[38;5;124myou can use builtins\u001b[39m\u001b[38;5;124m'\u001b[39m\u001b[38;5;124m open.\u001b[39m\u001b[38;5;124m\"\u001b[39m\n\u001b[0;32m    284\u001b[0m     )\n\u001b[1;32m--> 286\u001b[0m \u001b[38;5;28;01mreturn\u001b[39;00m io_open(file, \u001b[38;5;241m*\u001b[39margs, \u001b[38;5;241m*\u001b[39m\u001b[38;5;241m*\u001b[39mkwargs)\n",
      "\u001b[1;31mFileNotFoundError\u001b[0m: [Errno 2] No such file or directory: '5_input.csv'"
     ]
    }
   ],
   "source": [
    "#Write program that reads csv file and calculates compensation as: \n",
    "#(employment_duration_in_years * 1000 zł) only when employment_duration_in_years is greater or equal 5.\n",
    "\n",
    "import csv\n",
    "import pandas as pd\n",
    "\n",
    "def calculate_compensation(salary, employment_duration):\n",
    "    if employment_duration >= 5:\n",
    "        return employment_duration * 1000\n",
    "    else:\n",
    "        return 0\n",
    "\n",
    "# Read data from the CSV file\n",
    "filename = '5_input.csv'\n",
    "\n",
    "df = pd.read_csv(r\"C:\\Users\\HP\\Python challenge\\4.assignment\\5_input.csv\")\n",
    "\n",
    "compensations = []\n",
    "\n",
    "with open(filename, 'r', newline='') as file:\n",
    "    reader = csv.DictReader(file)\n",
    "    for row in reader:\n",
    "        name = row['Name']\n",
    "        salary = int(row['Salary'])\n",
    "        duration = int(row['Duration of employment in years'])\n",
    "        compensation = calculate_compensation(salary, duration)\n",
    "        compensations.append((name, compensation))\n",
    "\n",
    "# Print the calculated compensations\n",
    "print(\"Calculated compensations:\")\n",
    "for name, compensation in compensations:\n",
    "    print(f\"{name}: {compensation} zł\")"
   ]
  },
  {
   "cell_type": "code",
   "execution_count": null,
   "id": "5d31d58f",
   "metadata": {},
   "outputs": [],
   "source": []
  }
 ],
 "metadata": {
  "kernelspec": {
   "display_name": "Python 3 (ipykernel)",
   "language": "python",
   "name": "python3"
  },
  "language_info": {
   "codemirror_mode": {
    "name": "ipython",
    "version": 3
   },
   "file_extension": ".py",
   "mimetype": "text/x-python",
   "name": "python",
   "nbconvert_exporter": "python",
   "pygments_lexer": "ipython3",
   "version": "3.11.5"
  }
 },
 "nbformat": 4,
 "nbformat_minor": 5
}
