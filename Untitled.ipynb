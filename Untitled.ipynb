{
 "cells": [
  {
   "cell_type": "code",
   "execution_count": 3,
   "id": "e384056b",
   "metadata": {},
   "outputs": [
    {
     "ename": "SyntaxError",
     "evalue": "invalid syntax (2243102259.py, line 5)",
     "output_type": "error",
     "traceback": [
      "\u001b[1;36m  Cell \u001b[1;32mIn[3], line 5\u001b[1;36m\u001b[0m\n\u001b[1;33m    elif i % 3 == 0:\u001b[0m\n\u001b[1;37m    ^\u001b[0m\n\u001b[1;31mSyntaxError\u001b[0m\u001b[1;31m:\u001b[0m invalid syntax\n"
     ]
    }
   ],
   "source": [
    "def fizzbuzz(n):\n",
    "    for i in range(1,n+1):\n",
    "        if i % 3 == 0 and i % 5 == 0:\n",
    "            print(str(i) + \" - \" + \"FizzBuzz\")\n",
    "            elif i % 3 == 0:\n",
    "                print(str(i) + \" - \" + \"Fizz\")\n",
    "            elif i % 5 == 0:\n",
    "                print(str(i) + \" - \" + \"Buzz\")\n",
    "            else:\n",
    "                print(i)\n",
    "                \n",
    "fizzbuzz(21)"
   ]
  },
  {
   "cell_type": "code",
   "execution_count": 5,
   "id": "ac22478c",
   "metadata": {},
   "outputs": [
    {
     "ename": "NameError",
     "evalue": "name 'is_valid' is not defined",
     "output_type": "error",
     "traceback": [
      "\u001b[1;31m---------------------------------------------------------------------------\u001b[0m",
      "\u001b[1;31mNameError\u001b[0m                                 Traceback (most recent call last)",
      "Cell \u001b[1;32mIn[5], line 27\u001b[0m\n\u001b[0;32m     24\u001b[0m \u001b[38;5;28;01mdef\u001b[39;00m \u001b[38;5;21mmain\u001b[39m():\n\u001b[0;32m     25\u001b[0m     is_valid\u001b[38;5;241m=\u001b[39m\u001b[38;5;28;01mFalse\u001b[39;00m\n\u001b[1;32m---> 27\u001b[0m \u001b[38;5;28;01mwhile\u001b[39;00m is_valid \u001b[38;5;241m==\u001b[39m \u001b[38;5;28;01mFalse\u001b[39;00m:\n\u001b[0;32m     28\u001b[0m     name \u001b[38;5;241m=\u001b[39m \u001b[38;5;28minput\u001b[39m(\u001b[38;5;124m\"\u001b[39m\u001b[38;5;124mEnter your name: \u001b[39m\u001b[38;5;124m\"\u001b[39m)\n\u001b[0;32m     29\u001b[0m     email \u001b[38;5;241m=\u001b[39m \u001b[38;5;28minput\u001b[39m(\u001b[38;5;124m\"\u001b[39m\u001b[38;5;124mEnter your email address: \u001b[39m\u001b[38;5;124m\"\u001b[39m)\n",
      "\u001b[1;31mNameError\u001b[0m: name 'is_valid' is not defined"
     ]
    }
   ],
   "source": [
    "def validate_users_input(name,email):\n",
    "    \n",
    "    for char in name:\n",
    "        if(char.isgit()):\n",
    "            return False , \"Users name cannot include numeric characters\"\n",
    "        \n",
    "    if any(char.isdigit() for char in name):\n",
    "        return False, \"Users name cannot inlcude numeric characters\"\n",
    "    \n",
    "    if len(name) > 15:\n",
    "        return False, \"Users name cannot exceed 15 characters\"\n",
    "    \n",
    "    if not email.startswith(name.lower()):\n",
    "        return False, \"Email address must start with the user name\"\n",
    "    \n",
    "    if not email.endswith('@ubs.com'):\n",
    "        return False, \"Email address must include underscore character\"\n",
    "    \n",
    "    if ' ' in email:\n",
    "        return False, \"Whitespaces in the email are not allowed\"\n",
    "    \n",
    "    return True, \"OK\"\n",
    "\n",
    "def main():\n",
    "    is_valid=False\n",
    "    \n",
    "while is_valid == False:\n",
    "    name = input(\"Enter your name: \")\n",
    "    email = input(\"Enter your email address: \")\n",
    "    name = name.strip()\n",
    "    email = email.strip()\n",
    "    \n",
    "    is_valid, message = validate_users_input(Name, email)\n",
    "    if is_valid:\n",
    "        print(\"Registration successful\")\n",
    "    else:\n",
    "        print(\"Registration faled, reason: \" + message)\n",
    "        \n",
    "main()"
   ]
  },
  {
   "cell_type": "code",
   "execution_count": null,
   "id": "75bf0df9",
   "metadata": {},
   "outputs": [],
   "source": []
  }
 ],
 "metadata": {
  "kernelspec": {
   "display_name": "Python 3 (ipykernel)",
   "language": "python",
   "name": "python3"
  },
  "language_info": {
   "codemirror_mode": {
    "name": "ipython",
    "version": 3
   },
   "file_extension": ".py",
   "mimetype": "text/x-python",
   "name": "python",
   "nbconvert_exporter": "python",
   "pygments_lexer": "ipython3",
   "version": "3.11.5"
  }
 },
 "nbformat": 4,
 "nbformat_minor": 5
}
